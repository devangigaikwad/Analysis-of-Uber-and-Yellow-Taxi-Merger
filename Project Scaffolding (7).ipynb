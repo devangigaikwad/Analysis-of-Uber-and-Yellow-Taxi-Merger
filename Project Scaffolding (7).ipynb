{
 "cells": [
  {
   "cell_type": "markdown",
   "id": "32f8ca24",
   "metadata": {},
   "source": [
    "# Understanding Hired Rides in NYC\n",
    "\n",
    "_[Project prompt](https://docs.google.com/document/d/1VERPjEZcC1XSs4-02aM-DbkNr_yaJVbFjLJxaYQswqA/edit#)_\n",
    "\n",
    "_This scaffolding notebook may be used to help setup your final project. It's **totally optional** whether you make use of this or not._\n",
    "\n",
    "_If you do use this notebook, everything provided is optional as well - you may remove or add prose and code as you wish._\n",
    "\n",
    "_Anything in italics (prose) or comments (in code) is meant to provide you with guidance. **Remove the italic lines and provided comments** before submitting the project, if you choose to use this scaffolding. We don't need the guidance when grading._\n",
    "\n",
    "_**All code below should be consider \"pseudo-code\" - not functional by itself, and only a suggestion at the approach.**_"
   ]
  },
  {
   "cell_type": "markdown",
   "id": "25627e8d",
   "metadata": {},
   "source": [
    "## Requirements\n",
    "\n",
    "_A checklist of requirements to keep you on track. Remove this whole cell before submitting the project._\n",
    "\n",
    "* Code clarity: make sure the code conforms to:\n",
    "    * [ ] [PEP 8](https://peps.python.org/pep-0008/) - You might find [this resource](https://realpython.com/python-pep8/) helpful as well as [this](https://github.com/dnanhkhoa/nb_black) or [this](https://jupyterlab-code-formatter.readthedocs.io/en/latest/) tool\n",
    "    * [ ] [PEP 257](https://peps.python.org/pep-0257/)\n",
    "    * [ ] Break each task down into logical functions\n",
    "* The following files are submitted for the project (see the project's GDoc for more details):\n",
    "    * [ ] `README.md`\n",
    "    * [ ] `requirements.txt`\n",
    "    * [ ] `.gitignore`\n",
    "    * [ ] `schema.sql`\n",
    "    * [ ] 6 query files (using the `.sql` extension), appropriately named for the purpose of the query\n",
    "    * [x] Jupyter Notebook containing the project (this file!)\n",
    "* [x] You can edit this cell and add a `x` inside the `[ ]` like this task to denote a completed task"
   ]
  },
  {
   "cell_type": "markdown",
   "id": "2f75fd94",
   "metadata": {},
   "source": [
    "## Project Setup"
   ]
  },
  {
   "cell_type": "code",
   "execution_count": 1,
   "id": "66dcde05",
   "metadata": {},
   "outputs": [],
   "source": [
    "# all import statements needed for the project, for example:\n",
    "\n",
    "import requests\n",
    "import bs4\n",
    "import re\n",
    "import pyarrow.parquet as pq\n",
    "import pandas as pd\n",
    "import geopandas as gpd\n",
    "from skimpy import clean_columns\n",
    "import sqlalchemy as db\n",
    "import matplotlib.pyplot as plt\n",
    "import math\n",
    "import os\n",
    "import io"
   ]
  },
  {
   "cell_type": "code",
   "execution_count": 2,
   "id": "8b622a58",
   "metadata": {},
   "outputs": [],
   "source": [
    "# any general notebook setup, like log formatting"
   ]
  },
  {
   "cell_type": "code",
   "execution_count": 3,
   "id": "3f1242c4",
   "metadata": {},
   "outputs": [],
   "source": [
    "# any constants you might need, for example:\n",
    "\n",
    "TAXI_URL = \"https://www1.nyc.gov/site/tlc/about/tlc-trip-record-data.page\"\n",
    "# add other constants to refer to any local data, e.g. uber & weather\n",
    "UBER_DATA = \"uber_rides_sample.csv\"\n",
    "\n",
    "NEW_YORK_BOX_COORDS = ((40.560445, -74.242330), (40.908524, -73.717047))\n",
    "ny_lat0, ny_lon0 = NEW_YORK_BOX_COORDS[0]\n",
    "ny_lat1, ny_lon1 = NEW_YORK_BOX_COORDS[1]\n",
    "\n",
    "DATABASE_URL = \"sqlite:///project.db\"\n",
    "DATABASE_SCHEMA_FILE = \"schema.sql\"\n",
    "QUERY_DIRECTORY = \"queries\""
   ]
  },
  {
   "cell_type": "markdown",
   "id": "26ad10ea",
   "metadata": {},
   "source": [
    "## Part 1: Data Preprocessing"
   ]
  },
  {
   "cell_type": "markdown",
   "id": "ecf38168",
   "metadata": {},
   "source": [
    "_A checklist of requirements to keep you on track. Remove this whole cell before submitting the project. The order of these tasks aren't necessarily the order in which they need to be done. It's okay to do them in an order that makes sense to you._\n",
    "\n",
    "* [ ] Define a function that calculates the distance between two coordinates in kilometers that **only uses the `math` module** from the standard library.\n",
    "* [ ] Taxi data:\n",
    "    * [ ] Use the `re` module, and the packages `requests`, BeautifulSoup (`bs4`), and (optionally) `pandas` to programmatically download the required CSV files & load into memory.\n",
    "    * You may need to do this one file at a time - download, clean, sample. You can cache the sampling by saving it as a CSV file (and thereby freeing up memory on your computer) before moving onto the next file. \n",
    "* [ ] Weather & Uber data:\n",
    "    * [ ] Download the data manually in the link provided in the project doc.\n",
    "* [ ] All data:\n",
    "    * [ ] Load the data using `pandas`\n",
    "    * [ ] Clean the data, including:\n",
    "        * Remove unnecessary columns\n",
    "        * Remove invalid data points (take a moment to consider what's invalid)\n",
    "        * Normalize column names\n",
    "        * (Taxi & Uber data) Remove trips that start and/or end outside the designated [coordinate box](http://bboxfinder.com/#40.560445,-74.242330,40.908524,-73.717047)\n",
    "    * [ ] (Taxi data) Sample the data so that you have roughly the same amount of data points over the given date range for both Taxi data and Uber data.\n",
    "* [ ] Weather data:\n",
    "    * [ ] Split into two `pandas` DataFrames: one for required hourly data, and one for the required daily daya.\n",
    "    * [ ] You may find that the weather data you need later on does not exist at the frequency needed (daily vs hourly). You may calculate/generate samples from one to populate the other. Just document what you’re doing so we can follow along. "
   ]
  },
  {
   "cell_type": "markdown",
   "id": "a7499f6d",
   "metadata": {},
   "source": [
    "### Data lookup from taxi_zones.shp"
   ]
  },
  {
   "cell_type": "code",
   "execution_count": 4,
   "id": "39579c29",
   "metadata": {
    "scrolled": false
   },
   "outputs": [],
   "source": [
    "taxi_zone = gpd.read_file(r\"taxi_zones.shp\")"
   ]
  },
  {
   "cell_type": "code",
   "execution_count": 5,
   "id": "61df7f9e",
   "metadata": {},
   "outputs": [
    {
     "name": "stderr",
     "output_type": "stream",
     "text": [
      "/tmp/ipykernel_2296/3630155683.py:3: UserWarning: Geometry is in a geographic CRS. Results from 'centroid' are likely incorrect. Use 'GeoSeries.to_crs()' to re-project geometries to a projected CRS before this operation.\n",
      "\n",
      "  taxi_zone[\"lon\"] = taxi_zone.centroid.x\n",
      "/tmp/ipykernel_2296/3630155683.py:4: UserWarning: Geometry is in a geographic CRS. Results from 'centroid' are likely incorrect. Use 'GeoSeries.to_crs()' to re-project geometries to a projected CRS before this operation.\n",
      "\n",
      "  taxi_zone[\"lat\"] = taxi_zone.centroid.y\n"
     ]
    }
   ],
   "source": [
    "# Get the center of each polygon\n",
    "taxi_zone = taxi_zone.to_crs(4326)\n",
    "taxi_zone[\"lon\"] = taxi_zone.centroid.x\n",
    "taxi_zone[\"lat\"] = taxi_zone.centroid.y\n",
    "\n",
    "# make sure that the coodinate is located inside NY bounding box\n",
    "taxi_zone = taxi_zone[(taxi_zone[\"lon\"] > ny_lon0) & (taxi_zone[\"lon\"] < ny_lon1)]\n",
    "taxi_zone = taxi_zone[(taxi_zone[\"lat\"] > ny_lon1) & (taxi_zone[\"lat\"] < ny_lat1)]"
   ]
  },
  {
   "cell_type": "code",
   "execution_count": 6,
   "id": "93b29425",
   "metadata": {
    "scrolled": false
   },
   "outputs": [
    {
     "data": {
      "text/html": [
       "<div>\n",
       "<style scoped>\n",
       "    .dataframe tbody tr th:only-of-type {\n",
       "        vertical-align: middle;\n",
       "    }\n",
       "\n",
       "    .dataframe tbody tr th {\n",
       "        vertical-align: top;\n",
       "    }\n",
       "\n",
       "    .dataframe thead th {\n",
       "        text-align: right;\n",
       "    }\n",
       "</style>\n",
       "<table border=\"1\" class=\"dataframe\">\n",
       "  <thead>\n",
       "    <tr style=\"text-align: right;\">\n",
       "      <th></th>\n",
       "      <th>LocationID</th>\n",
       "      <th>latitude</th>\n",
       "      <th>longitude</th>\n",
       "    </tr>\n",
       "  </thead>\n",
       "  <tbody>\n",
       "    <tr>\n",
       "      <th>0</th>\n",
       "      <td>1</td>\n",
       "      <td>40.691831</td>\n",
       "      <td>-74.174000</td>\n",
       "    </tr>\n",
       "    <tr>\n",
       "      <th>1</th>\n",
       "      <td>2</td>\n",
       "      <td>40.616745</td>\n",
       "      <td>-73.831299</td>\n",
       "    </tr>\n",
       "    <tr>\n",
       "      <th>2</th>\n",
       "      <td>3</td>\n",
       "      <td>40.864474</td>\n",
       "      <td>-73.847422</td>\n",
       "    </tr>\n",
       "    <tr>\n",
       "      <th>3</th>\n",
       "      <td>4</td>\n",
       "      <td>40.723752</td>\n",
       "      <td>-73.976968</td>\n",
       "    </tr>\n",
       "    <tr>\n",
       "      <th>4</th>\n",
       "      <td>5</td>\n",
       "      <td>40.552659</td>\n",
       "      <td>-74.188484</td>\n",
       "    </tr>\n",
       "    <tr>\n",
       "      <th>...</th>\n",
       "      <td>...</td>\n",
       "      <td>...</td>\n",
       "      <td>...</td>\n",
       "    </tr>\n",
       "    <tr>\n",
       "      <th>140</th>\n",
       "      <td>141</td>\n",
       "      <td>40.766948</td>\n",
       "      <td>-73.959635</td>\n",
       "    </tr>\n",
       "    <tr>\n",
       "      <th>141</th>\n",
       "      <td>142</td>\n",
       "      <td>40.773633</td>\n",
       "      <td>-73.981532</td>\n",
       "    </tr>\n",
       "    <tr>\n",
       "      <th>142</th>\n",
       "      <td>143</td>\n",
       "      <td>40.775965</td>\n",
       "      <td>-73.987646</td>\n",
       "    </tr>\n",
       "    <tr>\n",
       "      <th>143</th>\n",
       "      <td>144</td>\n",
       "      <td>40.720889</td>\n",
       "      <td>-73.996919</td>\n",
       "    </tr>\n",
       "    <tr>\n",
       "      <th>144</th>\n",
       "      <td>145</td>\n",
       "      <td>40.745379</td>\n",
       "      <td>-73.948891</td>\n",
       "    </tr>\n",
       "  </tbody>\n",
       "</table>\n",
       "<p>144 rows × 3 columns</p>\n",
       "</div>"
      ],
      "text/plain": [
       "     LocationID   latitude  longitude\n",
       "0             1  40.691831 -74.174000\n",
       "1             2  40.616745 -73.831299\n",
       "2             3  40.864474 -73.847422\n",
       "3             4  40.723752 -73.976968\n",
       "4             5  40.552659 -74.188484\n",
       "..          ...        ...        ...\n",
       "140         141  40.766948 -73.959635\n",
       "141         142  40.773633 -73.981532\n",
       "142         143  40.775965 -73.987646\n",
       "143         144  40.720889 -73.996919\n",
       "144         145  40.745379 -73.948891\n",
       "\n",
       "[144 rows x 3 columns]"
      ]
     },
     "execution_count": 6,
     "metadata": {},
     "output_type": "execute_result"
    }
   ],
   "source": [
    "#create dataframe to handle location data\n",
    "df_taxi_zone = taxi_zone[[\"LocationID\"]].copy()\n",
    "\n",
    "df_taxi_zone[\"latitude\"] = taxi_zone.lat\n",
    "df_taxi_zone[\"longitude\"] = taxi_zone.lon\n",
    "\n",
    "df_taxi_zone = df_taxi_zone.dropna()\n",
    "df_taxi_zone.head(144)"
   ]
  },
  {
   "cell_type": "code",
   "execution_count": 7,
   "id": "aa5d7da3",
   "metadata": {},
   "outputs": [
    {
     "data": {
      "text/plain": [
       "'\\nlat_result = []\\nlon_result = []\\n\\nfor data in range(len(df_location.coordinate)):\\n    lat, lon = df_location[\"coordinate\"].iloc[data]\\n    \\n    lat_result.append(lat)\\n    lon_result.append(lon)\\n\\nmin_lat = min(lat_result)\\nmax_lat = max(lat_result)\\nmin_lon = min(lon_result)\\nmax_lon = max(lon_result)\\n'"
      ]
     },
     "execution_count": 7,
     "metadata": {},
     "output_type": "execute_result"
    }
   ],
   "source": [
    "#Validate of NY bounding box (df_location)\n",
    "\"\"\"\n",
    "lat_result = []\n",
    "lon_result = []\n",
    "\n",
    "for data in range(len(df_location.coordinate)):\n",
    "    lat, lon = df_location[\"coordinate\"].iloc[data]\n",
    "    \n",
    "    lat_result.append(lat)\n",
    "    lon_result.append(lon)\n",
    "\n",
    "min_lat = min(lat_result)\n",
    "max_lat = max(lat_result)\n",
    "min_lon = min(lon_result)\n",
    "max_lon = max(lon_result)\n",
    "\"\"\"\n",
    "# Note: NEW_YORK_BOX_COORDS = ((40.560445, -74.242330), (40.908524, -73.717047))\n",
    "# min_lon, max_lon = (-74.23353354937652, -73.72665537528711)\n",
    "# min_lat, max_lat = (40.525494581763816, 40.89952906437648)"
   ]
  },
  {
   "cell_type": "markdown",
   "id": "32074561",
   "metadata": {},
   "source": [
    "### Calculating distance\n",
    "_**TODO:** Write some prose that tells the reader what you're about to do here._"
   ]
  },
  {
   "cell_type": "code",
   "execution_count": 8,
   "id": "4cbbe6cc",
   "metadata": {},
   "outputs": [],
   "source": [
    "def calculate_distance(from_coord, to_coord):\n",
    "    \n",
    "    result = []\n",
    "    \n",
    "    for data in range(max(len(from_coord), len(to_coord))):\n",
    "        lat1, lon1 = from_coord[data]\n",
    "        lat2, lon2 = to_coord[data]\n",
    "                      \n",
    "        #method to convert a degree value into radians\n",
    "        lon1 = math.radians(lon1)\n",
    "        lon2 = math.radians(lon2)\n",
    "        lat1 = math.radians(lat1)\n",
    "        lat2 = math.radians(lat2)\n",
    "        \n",
    "        #Haversine Formula\n",
    "        diff_lon = lon2 - lon1 \n",
    "        diff_lat = lat2 - lat1\n",
    "        \n",
    "        a = math.sin(diff_lat / 2)**2 + math.cos(lat1) * math.cos(lat2) * math.sin(diff_lon / 2)**2\n",
    "        c = 2 * math.atan2(math.sqrt(a), math.sqrt(1 - a))\n",
    "        \n",
    "        # Radius of earth in kilometers. Use 3956 for miles\n",
    "        r = 6371\n",
    "                      \n",
    "        #calculate the result\n",
    "        distance = r*c\n",
    "        result.append(distance)\n",
    "    \n",
    "    distance_series = pd.Series(result)\n",
    "                      \n",
    "    return distance_series"
   ]
  },
  {
   "cell_type": "code",
   "execution_count": 9,
   "id": "e3937eaa",
   "metadata": {},
   "outputs": [],
   "source": [
    "def add_distance_column_1(dataframe):    \n",
    "    dataframe[\"pickup_coordinate\"] = pd.Series(zip(dataframe[\"pickup_latitude\"], dataframe[\"pickup_longitude\"]))\n",
    "    dataframe[\"dropoff_coordinate\"] = pd.Series(zip(dataframe[\"dropoff_latitude\"], dataframe[\"dropoff_longitude\"]))\n",
    "    dataframe[\"distance\"] = calculate_distance(dataframe[\"pickup_coordinate\"], dataframe[\"dropoff_coordinate\"])\n",
    "    return dataframe[\"distance\"]"
   ]
  },
  {
   "cell_type": "code",
   "execution_count": 10,
   "id": "ac1af3db",
   "metadata": {},
   "outputs": [],
   "source": [
    "def add_distance_column_2(dataframe):\n",
    "    #merge main dataframe with the df_location based on LocationID\n",
    "    dataframe = dataframe.merge(df_taxi_zone, left_on='PULocationID', right_on='LocationID')\n",
    "    dataframe = dataframe.merge(df_taxi_zone, left_on='DOLocationID', right_on='LocationID')\n",
    "    dataframe = dataframe.rename(columns={\"latitude_x\":\"pickup_latitude\", \"longitude_x\":\"pickup_longitude\",\n",
    "                                         \"latitude_y\":\"dropoff_latitude\", \"longitude_y\":\"dropoff_longitude\",})\n",
    "    \n",
    "    dataframe[\"pickup_coordinate\"] = pd.Series(zip(dataframe[\"pickup_latitude\"], dataframe[\"pickup_longitude\"]))\n",
    "    dataframe[\"dropoff_coordinate\"] = pd.Series(zip(dataframe[\"dropoff_latitude\"], dataframe[\"dropoff_longitude\"]))\n",
    "    \n",
    "    dataframe[\"distance\"] = calculate_distance(dataframe[\"pickup_coordinate\"], dataframe[\"dropoff_coordinate\"])\n",
    "    dataframe = dataframe.drop(columns=[\"LocationID_x\",\"LocationID_y\",\"pickup_coordinate\",\"dropoff_coordinate\"])\n",
    "    dataframe = dataframe.dropna()\n",
    "    \n",
    "    return dataframe"
   ]
  },
  {
   "cell_type": "markdown",
   "id": "93daa717",
   "metadata": {},
   "source": [
    "### Processing Taxi Data\n",
    "\n",
    "_**TODO:** Write some prose that tells the reader what you're about to do here._"
   ]
  },
  {
   "cell_type": "code",
   "execution_count": 11,
   "id": "cbd0d198",
   "metadata": {},
   "outputs": [],
   "source": [
    "def find_taxi_csv_urls():\n",
    "    #Get taxi HTML\n",
    "    response = requests.get(TAXI_URL)\n",
    "    html = response.content\n",
    "    \n",
    "    #Find taxi parquet links\n",
    "    soup = bs4.BeautifulSoup(html, 'html.parser')\n",
    "    result = [a['href'] for a in soup.find_all('a', title=\"Yellow Taxi Trip Records\")]\n",
    "    return result"
   ]
  },
  {
   "cell_type": "code",
   "execution_count": 12,
   "id": "2f40130a",
   "metadata": {},
   "outputs": [],
   "source": [
    "def get_and_clean_month_taxi_data(url):\n",
    "    dataframe = pd.DataFrame(None)\n",
    "    match = re.search(r\"\\w+(?P<year>2009|201[012345])-01.parquet\", url) #keep in mind that currently we only take 2022-01 data to make the preprocessing more efficient, we can update the REGEX once we wrapped up all the sections\n",
    "    \n",
    "    if match is None:\n",
    "        pass\n",
    "    else:\n",
    "        year = match.group(\"year\")\n",
    "        response = requests.get(url)\n",
    "        \n",
    "        with open(match.group(), \"wb\") as f:\n",
    "            for chunk in response.iter_content(chunk_size=1024): \n",
    "                if chunk:\n",
    "                    f.write(chunk)\n",
    "                    \n",
    "        with open(match.group(), \"r\") as f:\n",
    "            if year == \"2009\":\n",
    "                dataframe = pd.read_parquet(match.group(), engine='pyarrow')\n",
    "                dataframe = dataframe.sample(frac=0.01, random_state=1)\n",
    "                dataframe = dataframe.reset_index(drop=True)\n",
    "                \n",
    "                dataframe = dataframe.rename(columns={\"Trip_Pickup_DateTime\":\"tpep_pickup_datetime\",\n",
    "                                                     \"Tip_Amt\":\"tip_amount\",\n",
    "                                                     \"Start_Lon\":\"pickup_longitude\",\n",
    "                                                     \"Start_Lat\":\"pickup_latitude\",\n",
    "                                                     \"End_Lon\": \"dropoff_longitude\",\n",
    "                                                     \"End_Lat\": \"dropoff_latitude\"})\n",
    "                dataframe = dataframe[[\"tpep_pickup_datetime\", \"pickup_longitude\", \"pickup_latitude\",\n",
    "                                      \"dropoff_longitude\", \"dropoff_latitude\",\"tip_amount\"]]\n",
    "\n",
    "                dataframe[\"distance\"] = add_distance_column_1(dataframe)\n",
    "                dataframe[\"tpep_pickup_date\"] = pd.to_datetime(dataframe[\"tpep_pickup_datetime\"]).dt.date\n",
    "                dataframe[\"tpep_pickup_hour\"] = pd.to_datetime(dataframe[\"tpep_pickup_datetime\"]).dt.hour\n",
    "                dataframe[\"tpep_pickup_day\"] = pd.to_datetime(dataframe[\"tpep_pickup_datetime\"]).dt.day_name()\n",
    "                \n",
    "                dataframe = dataframe[['tpep_pickup_date','tpep_pickup_day','tpep_pickup_hour',\n",
    "                                       'tip_amount','distance','pickup_longitude', \n",
    "                                       'pickup_latitude','dropoff_longitude', 'dropoff_latitude']]\n",
    "                dataframe = dataframe.dropna(subset=[\"distance\"])\n",
    "                \n",
    "            elif year == \"2010\":\n",
    "                dataframe = pd.read_parquet(match.group(), engine='pyarrow')\n",
    "                dataframe = dataframe.sample(frac=0.01, random_state=1)\n",
    "                dataframe = dataframe.reset_index(drop=True)\n",
    "                \n",
    "                dataframe = dataframe.rename(columns={\"pickup_datetime\":\"tpep_pickup_datetime\"})\n",
    "                dataframe = dataframe[[\"tpep_pickup_datetime\", \"pickup_longitude\", \"pickup_latitude\",\n",
    "                                      \"dropoff_longitude\", \"dropoff_latitude\",\"tip_amount\"]]\n",
    "                \n",
    "                dataframe[\"distance\"] = add_distance_column_1(dataframe)\n",
    "                dataframe[\"tpep_pickup_date\"] = pd.to_datetime(dataframe[\"tpep_pickup_datetime\"]).dt.date\n",
    "                dataframe[\"tpep_pickup_hour\"] = pd.to_datetime(dataframe[\"tpep_pickup_datetime\"]).dt.hour\n",
    "                dataframe[\"tpep_pickup_day\"] = pd.to_datetime(dataframe[\"tpep_pickup_datetime\"]).dt.day_name()\n",
    "                \n",
    "                dataframe = dataframe[['tpep_pickup_date','tpep_pickup_day','tpep_pickup_hour',\n",
    "                                       'tip_amount','distance','pickup_longitude', \n",
    "                                       'pickup_latitude','dropoff_longitude', 'dropoff_latitude']]\n",
    "                dataframe = dataframe.dropna(subset=[\"distance\"])\n",
    "                \n",
    "            else:    \n",
    "                dataframe = pd.read_parquet(match.group(), engine='pyarrow')\n",
    "                dataframe = dataframe.sample(frac=0.01, random_state=1)\n",
    "                dataframe = dataframe.reset_index(drop=True)\n",
    "                dataframe = dataframe[['tpep_pickup_datetime','PULocationID', 'DOLocationID','tip_amount']]\n",
    "\n",
    "                dataframe = add_distance_column_2(dataframe)\n",
    "                dataframe[\"tpep_pickup_date\"] = pd.to_datetime(dataframe[\"tpep_pickup_datetime\"]).dt.date\n",
    "                dataframe[\"tpep_pickup_hour\"] = pd.to_datetime(dataframe[\"tpep_pickup_datetime\"]).dt.hour\n",
    "                dataframe[\"tpep_pickup_day\"] = pd.to_datetime(dataframe[\"tpep_pickup_datetime\"]).dt.day_name()\n",
    "\n",
    "                dataframe = dataframe[['tpep_pickup_date','tpep_pickup_day','tpep_pickup_hour',\n",
    "                                       'pickup_longitude', 'pickup_latitude', 'dropoff_longitude',\n",
    "                                       'dropoff_latitude','tip_amount','distance']]\n",
    "                dataframe = dataframe.dropna(subset=[\"distance\"])\n",
    "                            \n",
    "    return dataframe"
   ]
  },
  {
   "cell_type": "code",
   "execution_count": 13,
   "id": "39751235",
   "metadata": {},
   "outputs": [],
   "source": [
    "def get_and_clean_taxi_data():\n",
    "    all_taxi_dataframes = []\n",
    "    \n",
    "    all_csv_urls = find_taxi_csv_urls()\n",
    "    for csv_url in all_csv_urls:\n",
    "        # maybe: first try to see if you've downloaded this exact\n",
    "        # file already and saved it before trying again\n",
    "        dataframe = get_and_clean_month_taxi_data(csv_url)\n",
    "        \n",
    "        all_taxi_dataframes.append(dataframe)\n",
    "        \n",
    "    # create one gigantic dataframe with data from every month needed\n",
    "    taxi_data = pd.concat(all_taxi_dataframes)\n",
    "    \n",
    "    return taxi_data"
   ]
  },
  {
   "cell_type": "markdown",
   "id": "094b4d6d",
   "metadata": {},
   "source": [
    "### Processing Uber Data\n",
    "\n",
    "_**TODO:** Write some prose that tells the reader what you're about to do here._"
   ]
  },
  {
   "cell_type": "code",
   "execution_count": 14,
   "id": "7c58e3a2",
   "metadata": {},
   "outputs": [],
   "source": [
    "def load_and_clean_uber_data(csv_file):\n",
    "    df_uber = pd.read_csv(csv_file)\n",
    "    \n",
    "    #renaming old df without creating a copy \n",
    "    df_uber.rename(columns={'key': 'date_time', 'Unnamed: 0': 'location_id'}, inplace=True)\n",
    "    \n",
    "    #constructing new columns as a function input\n",
    "    df_uber[\"pickup_coordinate\"] = list(zip(df_uber.pickup_latitude, df_uber.pickup_longitude))\n",
    "    df_uber[\"dropoff_coordinate\"] = list(zip(df_uber.dropoff_latitude, df_uber.dropoff_longitude))\n",
    "    \n",
    "    #calculate distance\n",
    "    df_uber[\"distance\"] = calculate_distance(df_uber[\"pickup_coordinate\"], df_uber[\"dropoff_coordinate\"])\n",
    "    \n",
    "    #make sure that the coordinate is located inside the NY bounding box\n",
    "    df_uber = df_uber[(df_uber[\"pickup_longitude\"] > ny_lon0) & (df_uber[\"pickup_longitude\"] < ny_lon1)]\n",
    "    df_uber = df_uber[(df_uber[\"dropoff_longitude\"] > ny_lon0) & (df_uber[\"dropoff_longitude\"] < ny_lon1)]\n",
    "    df_uber = df_uber[(df_uber[\"pickup_latitude\"] > ny_lat0) & (df_uber[\"pickup_latitude\"] < ny_lat1)]\n",
    "    df_uber = df_uber[(df_uber[\"dropoff_latitude\"] > ny_lat0) & (df_uber[\"dropoff_latitude\"] < ny_lat1)]\n",
    "    \n",
    "    #handle the datetime format\n",
    "    df_uber[\"order_date\"] = pd.to_datetime(df_uber[\"date_time\"]).dt.date\n",
    "    df_uber[\"order_time\"] = pd.to_datetime(df_uber[\"date_time\"]).dt.hour\n",
    "    df_uber[\"order_day\"] = pd.to_datetime(df_uber[\"date_time\"]).dt.day_name()\n",
    "    \n",
    "    df_uber[\"pickup_date\"] = pd.to_datetime(df_uber[\"pickup_datetime\"]).dt.date\n",
    "    df_uber[\"pickup_time\"] = pd.to_datetime(df_uber[\"pickup_datetime\"]).dt.hour\n",
    "    df_uber[\"pickup_day\"] = pd.to_datetime(df_uber[\"pickup_datetime\"]).dt.day_name()\n",
    "    \n",
    "    df_uber = df_uber.drop(columns=[\"date_time\", \"pickup_datetime\"])\n",
    "    \n",
    "    return df_uber"
   ]
  },
  {
   "cell_type": "code",
   "execution_count": 15,
   "id": "f836f118",
   "metadata": {},
   "outputs": [],
   "source": [
    "def get_uber_data():\n",
    "    uber_dataframe = load_and_clean_uber_data(UBER_DATA)\n",
    "    uber_dataframe = uber_dataframe.drop(columns=[\"pickup_coordinate\",\"dropoff_coordinate\",\n",
    "                                                  \"pickup_longitude\", \"pickup_latitude\", \n",
    "                                                  \"dropoff_longitude\", \"dropoff_latitude\"])\n",
    "    \n",
    "    return uber_dataframe"
   ]
  },
  {
   "cell_type": "markdown",
   "id": "45a15cbb",
   "metadata": {},
   "source": [
    "### Processing Weather Data\n",
    "\n",
    "_**TODO:** Write some prose that tells the reader what you're about to do here._"
   ]
  },
  {
   "cell_type": "code",
   "execution_count": 16,
   "id": "76e864ab",
   "metadata": {
    "scrolled": false
   },
   "outputs": [],
   "source": [
    "def clean_month_weather_data_hourly(csv_file):\n",
    "    df_weather = pd.read_csv(csv_file, low_memory = False)\n",
    "    weather_columns = df_weather.columns.tolist()\n",
    "    result = ['STATION', 'DATE', 'LATITUDE', 'LONGITUDE', 'ELEVATION', 'NAME', 'REPORT_TYPE', 'SOURCE']\n",
    "    \n",
    "    for column in weather_columns:\n",
    "        match = re.search(r\"Hourly\", column)\n",
    "        if match is None:\n",
    "            pass\n",
    "        else:\n",
    "            result.append(column)\n",
    "    \n",
    "    df_weather_hourly = df_weather[result]\n",
    "    \n",
    "    return df_weather_hourly"
   ]
  },
  {
   "cell_type": "code",
   "execution_count": 17,
   "id": "0687581f",
   "metadata": {},
   "outputs": [],
   "source": [
    "def clean_month_weather_data_daily(csv_file):\n",
    "    df_weather = pd.read_csv(csv_file, low_memory = False)\n",
    "    weather_columns = df_weather.columns.tolist()\n",
    "    result = ['STATION', 'DATE', 'LATITUDE', 'LONGITUDE', 'ELEVATION', 'NAME', 'REPORT_TYPE', 'SOURCE']\n",
    "    \n",
    "    for column in weather_columns:\n",
    "        match = re.search(r\"Daily\", column)\n",
    "        if match is None:\n",
    "            pass\n",
    "        else:\n",
    "            result.append(column)\n",
    "    \n",
    "    df_weather_daily = df_weather[result]\n",
    "    \n",
    "    return df_weather_daily"
   ]
  },
  {
   "cell_type": "code",
   "execution_count": 18,
   "id": "3ef8945d",
   "metadata": {},
   "outputs": [],
   "source": [
    "def load_and_clean_weather_data():\n",
    "    hourly_dataframes = []\n",
    "    daily_dataframes = []\n",
    "    \n",
    "    # add some way to find all weather CSV files\n",
    "    weather_csv_files = []\n",
    "    list_dir = os.listdir() #list all file within a directory and store in an array\n",
    "\n",
    "    for file in list_dir:\n",
    "        match = re.search(r\"(2009|201[012345])_weather.csv\", file)\n",
    "        if match is None:\n",
    "            pass\n",
    "        else:\n",
    "            weather_csv_files.append(match.group())\n",
    "    \n",
    "    for csv_file in weather_csv_files:\n",
    "        hourly_dataframe = clean_month_weather_data_hourly(csv_file)\n",
    "        daily_dataframe = clean_month_weather_data_daily(csv_file)\n",
    "        hourly_dataframes.append(hourly_dataframe)\n",
    "        daily_dataframes.append(daily_dataframe)\n",
    "        \n",
    "    # create two dataframes with hourly & daily data from every month\n",
    "    hourly_data = pd.concat(hourly_dataframes)\n",
    "    daily_data = pd.concat(daily_dataframes)\n",
    "    \n",
    "    #handle datetime format - hourly data\n",
    "    hourly_data[\"ORDER_DATE\"] = pd.to_datetime(hourly_data[\"DATE\"]).dt.date\n",
    "    hourly_data[\"ORDER_TIME\"] = pd.to_datetime(hourly_data[\"DATE\"]).dt.hour\n",
    "    hourly_data[\"ORDER_DAY\"] = pd.to_datetime(hourly_data[\"DATE\"]).dt.day_name()\n",
    "    hourly_data = hourly_data.drop(columns=[\"DATE\"])\n",
    "    \n",
    "    #handle datetime format - daily data\n",
    "    daily_data[\"ORDER_DATE\"] = pd.to_datetime(daily_data[\"DATE\"]).dt.date\n",
    "    daily_data[\"ORDER_TIME\"] = pd.to_datetime(daily_data[\"DATE\"]).dt.hour\n",
    "    daily_data[\"ORDER_DAY\"] = pd.to_datetime(daily_data[\"DATE\"]).dt.day_name()\n",
    "    daily_data = daily_data.drop(columns=[\"DATE\"])\n",
    "    \n",
    "    return hourly_data, daily_data"
   ]
  },
  {
   "cell_type": "markdown",
   "id": "f900f7aa",
   "metadata": {},
   "source": [
    "### Process All Data\n",
    "\n",
    "_This is where you can actually execute all the required functions._\n",
    "\n",
    "_**TODO:** Write some prose that tells the reader what you're about to do here._"
   ]
  },
  {
   "cell_type": "code",
   "execution_count": 19,
   "id": "f7cd53a6",
   "metadata": {},
   "outputs": [],
   "source": [
    "taxi_data = get_and_clean_taxi_data()\n",
    "uber_data = get_uber_data()\n",
    "hourly_weather_data, daily_weather_data = load_and_clean_weather_data()"
   ]
  },
  {
   "cell_type": "code",
   "execution_count": 40,
   "id": "1a3e898f",
   "metadata": {},
   "outputs": [
    {
     "data": {
      "text/html": [
       "<div>\n",
       "<style scoped>\n",
       "    .dataframe tbody tr th:only-of-type {\n",
       "        vertical-align: middle;\n",
       "    }\n",
       "\n",
       "    .dataframe tbody tr th {\n",
       "        vertical-align: top;\n",
       "    }\n",
       "\n",
       "    .dataframe thead th {\n",
       "        text-align: right;\n",
       "    }\n",
       "</style>\n",
       "<table border=\"1\" class=\"dataframe\">\n",
       "  <thead>\n",
       "    <tr style=\"text-align: right;\">\n",
       "      <th></th>\n",
       "      <th>tpep_pickup_date</th>\n",
       "      <th>tpep_pickup_day</th>\n",
       "      <th>tpep_pickup_hour</th>\n",
       "      <th>pickup_longitude</th>\n",
       "      <th>pickup_latitude</th>\n",
       "      <th>dropoff_longitude</th>\n",
       "      <th>dropoff_latitude</th>\n",
       "      <th>tip_amount</th>\n",
       "      <th>distance</th>\n",
       "    </tr>\n",
       "  </thead>\n",
       "  <tbody>\n",
       "    <tr>\n",
       "      <th>0</th>\n",
       "      <td>2015-01-12</td>\n",
       "      <td>Monday</td>\n",
       "      <td>23</td>\n",
       "      <td>-73.977698</td>\n",
       "      <td>40.758028</td>\n",
       "      <td>-73.981532</td>\n",
       "      <td>40.773633</td>\n",
       "      <td>2.3</td>\n",
       "      <td>1.765015</td>\n",
       "    </tr>\n",
       "    <tr>\n",
       "      <th>1</th>\n",
       "      <td>2015-01-28</td>\n",
       "      <td>Wednesday</td>\n",
       "      <td>20</td>\n",
       "      <td>-73.977698</td>\n",
       "      <td>40.758028</td>\n",
       "      <td>-73.981532</td>\n",
       "      <td>40.773633</td>\n",
       "      <td>0.0</td>\n",
       "      <td>1.765015</td>\n",
       "    </tr>\n",
       "    <tr>\n",
       "      <th>2</th>\n",
       "      <td>2015-01-27</td>\n",
       "      <td>Tuesday</td>\n",
       "      <td>19</td>\n",
       "      <td>-73.977698</td>\n",
       "      <td>40.758028</td>\n",
       "      <td>-73.981532</td>\n",
       "      <td>40.773633</td>\n",
       "      <td>0.0</td>\n",
       "      <td>1.765015</td>\n",
       "    </tr>\n",
       "    <tr>\n",
       "      <th>3</th>\n",
       "      <td>2015-01-24</td>\n",
       "      <td>Saturday</td>\n",
       "      <td>17</td>\n",
       "      <td>-73.977698</td>\n",
       "      <td>40.758028</td>\n",
       "      <td>-73.981532</td>\n",
       "      <td>40.773633</td>\n",
       "      <td>0.0</td>\n",
       "      <td>1.765015</td>\n",
       "    </tr>\n",
       "    <tr>\n",
       "      <th>4</th>\n",
       "      <td>2015-01-17</td>\n",
       "      <td>Saturday</td>\n",
       "      <td>19</td>\n",
       "      <td>-73.977698</td>\n",
       "      <td>40.758028</td>\n",
       "      <td>-73.981532</td>\n",
       "      <td>40.773633</td>\n",
       "      <td>0.0</td>\n",
       "      <td>1.765015</td>\n",
       "    </tr>\n",
       "  </tbody>\n",
       "</table>\n",
       "</div>"
      ],
      "text/plain": [
       "  tpep_pickup_date tpep_pickup_day  tpep_pickup_hour  pickup_longitude  \\\n",
       "0       2015-01-12          Monday                23        -73.977698   \n",
       "1       2015-01-28       Wednesday                20        -73.977698   \n",
       "2       2015-01-27         Tuesday                19        -73.977698   \n",
       "3       2015-01-24        Saturday                17        -73.977698   \n",
       "4       2015-01-17        Saturday                19        -73.977698   \n",
       "\n",
       "   pickup_latitude  dropoff_longitude  dropoff_latitude  tip_amount  distance  \n",
       "0        40.758028         -73.981532         40.773633         2.3  1.765015  \n",
       "1        40.758028         -73.981532         40.773633         0.0  1.765015  \n",
       "2        40.758028         -73.981532         40.773633         0.0  1.765015  \n",
       "3        40.758028         -73.981532         40.773633         0.0  1.765015  \n",
       "4        40.758028         -73.981532         40.773633         0.0  1.765015  "
      ]
     },
     "execution_count": 40,
     "metadata": {},
     "output_type": "execute_result"
    }
   ],
   "source": [
    "taxi_data.head()"
   ]
  },
  {
   "cell_type": "markdown",
   "id": "dd101f11",
   "metadata": {},
   "source": [
    "\n",
    "## Part 2: Storing Cleaned Data\n",
    "\n",
    "_Write some prose that tells the reader what you're about to do here._"
   ]
  },
  {
   "cell_type": "code",
   "execution_count": 42,
   "id": "08b8149a",
   "metadata": {},
   "outputs": [
    {
     "data": {
      "text/plain": [
       "Engine(sqlite:///project.db)"
      ]
     },
     "execution_count": 42,
     "metadata": {},
     "output_type": "execute_result"
    }
   ],
   "source": [
    "engine = db.create_engine(DATABASE_URL)\n",
    "engine"
   ]
  },
  {
   "cell_type": "code",
   "execution_count": 43,
   "id": "d2bea0ff",
   "metadata": {},
   "outputs": [],
   "source": [
    "# if using SQL (as opposed to SQLAlchemy), define the commands \n",
    "# to create your 4 tables/dataframes\n",
    "HOURLY_WEATHER_SCHEMA = \"\"\"\n",
    "CREATE TABLE IF NOT EXISTS hourly_weather\n",
    "(\n",
    "    id INTEGER PRIMARY KEY AUTOINCREMENT,\n",
    "    STATION INTEGER,\n",
    "    LATITUDE REAL,\n",
    "    LONGITUDE REAL,\n",
    "    ELEVATION REAL,\n",
    "    NAME TEXT,\n",
    "    REPORT_TYPE TEXT,\n",
    "    SOURCE TEXT,\n",
    "    HourlyAltimeterSetting REAL,\n",
    "    HourlyDewPointTemperature REAL,\n",
    "    HourlyDryBulbTemperature REAL,\n",
    "    HourlyPrecipitation REAL,\n",
    "    HourlyPresentWeatherType REAL,\n",
    "    HourlyPressureChange REAL,\n",
    "    HourlyPressureTendency REAL,\n",
    "    HourlyRelativeHumidity REAL,\n",
    "    HourlySkyConditions REAL,\n",
    "    HourlySeaLevelPressure REAL,\n",
    "    HourlyStationPressure REAL,\n",
    "    HourlyVisibility REAL,\n",
    "    HourlyWetBulbTemperature REAL,\n",
    "    HourlyWindDirection REAL,\n",
    "    HourlyWindGustSpeed REAL,\n",
    "    HourlyWindSpeed REAL,\n",
    "    ORDER_DATE DATE,\n",
    "    ORDER_TIME INTEGER,\n",
    "    ORDER_DAY STRING\n",
    "    )\n",
    "\"\"\"\n",
    "\n",
    "DAILY_WEATHER_SCHEMA = \"\"\"\n",
    "CREATE TABLE IF NOT EXISTS daily_weather\n",
    "(\n",
    "    id INTEGER PRIMARY KEY AUTOINCREMENT,\n",
    "    STATION INTEGER,\n",
    "    LATITUDE REAL,\n",
    "    LONGITUDE REAL,\n",
    "    ELEVATION REAL,\n",
    "    NAME TEXT,\n",
    "    REPORT_TYPE TEXT,\n",
    "    SOURCE TEXT,\n",
    "    DailyAverageDewPointTemperature REAL,\n",
    "    DailyAverageDryBulbTemperature REAL,\n",
    "    DailyAverageRelativeHumidity REAL,\n",
    "    DailyAverageSeaLevelPressure REAL, \n",
    "    DailyAverageStationPressure REAL,  \n",
    "    DailyAverageWetBulbTemperature REAL,\n",
    "    DailyAverageWindSpeed REAL,        \n",
    "    DailyCoolingDegreeDays REAL,       \n",
    "    DailyDepartureFromNormalAverageTemperature REAL,\n",
    "    DailyHeatingDegreeDays REAL,        \n",
    "    DailyMaximumDryBulbTemperature REAL,\n",
    "    DailyMinimumDryBulbTemperature REAL,\n",
    "    DailyPeakWindDirection REAL,        \n",
    "    DailyPeakWindSpeed REAL,            \n",
    "    DailyPrecipitation REAL,            \n",
    "    DailySnowDepth REAL,                \n",
    "    DailySnowfall REAL,                 \n",
    "    DailySustainedWindDirection REAL,   \n",
    "    DailySustainedWindSpeed REAL,       \n",
    "    DailyWeather TEXT,\n",
    "    ORDER_DATE DATE,\n",
    "    ORDER_TIME INTEGER,\n",
    "    ORDER_DAY STRING\n",
    "    )\n",
    "\"\"\"\n",
    "\n",
    "TAXI_TRIPS_SCHEMA = \"\"\"\n",
    "CREATE TABLE IF NOT EXISTS taxi_trips\n",
    "(\n",
    "    id INTEGER PRIMARY KEY AUTOINCREMENT,\n",
    "    tpep_pickup_date DATE,\n",
    "    tpep_pickup_day STRING,\n",
    "    tpep_pickup_hour INTEGER,\n",
    "    pickup_longitude REAL,\n",
    "    pickup_latitude REAL,\n",
    "    dropoff_longitude REAL,\n",
    "    dropoff_latitude REAL,\n",
    "    tip_amount REAL,\n",
    "    distance REAL\n",
    ")\n",
    "\"\"\"\n",
    "\n",
    "UBER_TRIPS_SCHEMA = \"\"\"\n",
    "CREATE TABLE IF NOT EXISTS uber_trips\n",
    "(\n",
    "    id INTEGER PRIMARY KEY AUTOINCREMENT,\n",
    "    location_id BIGINT,\n",
    "    fare_amount REAL,\n",
    "    pickup_longitude REAL,\n",
    "    pickup_latitude REAL,\n",
    "    dropoff_longitude REAL,\n",
    "    dropoff_latitude REAL,\n",
    "    pickup_datetime TEXT,\n",
    "    passenger_count INTEGER,\n",
    "    distance REAL,\n",
    "    order_date DATE,\n",
    "    order_time INTEGER,\n",
    "    order_day STRING,\n",
    "    pickup_date DATE,\n",
    "    pickup_time INTEGER,\n",
    "    pickup_day STRING\n",
    ")\n",
    "\"\"\""
   ]
  },
  {
   "cell_type": "code",
   "execution_count": 44,
   "id": "5f41e54b",
   "metadata": {},
   "outputs": [],
   "source": [
    "# create that required schema.sql file\n",
    "with open(DATABASE_SCHEMA_FILE, \"w\") as f:\n",
    "    f.write(HOURLY_WEATHER_SCHEMA)\n",
    "    f.write(DAILY_WEATHER_SCHEMA)\n",
    "    f.write(UBER_TRIPS_SCHEMA)\n",
    "    f.write(UBER_TRIPS_SCHEMA)"
   ]
  },
  {
   "cell_type": "code",
   "execution_count": 45,
   "id": "02eccdba",
   "metadata": {},
   "outputs": [],
   "source": [
    "# create the tables with the schema files\n",
    "with engine.connect() as connection:\n",
    "    connection.execute(UBER_TRIPS_SCHEMA)\n",
    "    connection.close()"
   ]
  },
  {
   "cell_type": "markdown",
   "id": "c122964f",
   "metadata": {},
   "source": [
    "### Add Data to Database\n",
    "\n",
    "_**TODO:** Write some prose that tells the reader what you're about to do here._"
   ]
  },
  {
   "cell_type": "code",
   "execution_count": 46,
   "id": "0e68a363",
   "metadata": {},
   "outputs": [],
   "source": [
    "def write_dataframes_to_table(table_to_df_dict):\n",
    "    for key, value in table_to_df_dict.items():\n",
    "        value.to_sql(key, engine, index=True, index_label=\"id\", if_exists='append')"
   ]
  },
  {
   "cell_type": "code",
   "execution_count": 47,
   "id": "45d6c06c",
   "metadata": {},
   "outputs": [],
   "source": [
    "map_table_name_to_dataframe = {\n",
    "    \"taxi_trips\": taxi_data,\n",
    "    \"uber_trips\": uber_data,\n",
    "    \"hourly_weather\": hourly_weather_data,\n",
    "    \"daily_weather\": daily_weather_data\n",
    "}"
   ]
  },
  {
   "cell_type": "code",
   "execution_count": 48,
   "id": "74004f96",
   "metadata": {},
   "outputs": [],
   "source": [
    "write_dataframes_to_table(map_table_name_to_dataframe)"
   ]
  },
  {
   "cell_type": "markdown",
   "id": "8cb6e33e",
   "metadata": {},
   "source": [
    "## Part 3: Understanding the Data"
   ]
  },
  {
   "cell_type": "markdown",
   "id": "b4753fcd",
   "metadata": {},
   "source": [
    "_A checklist of requirements to keep you on track. Remove this whole cell before submitting the project. The order of these tasks aren't necessarily the order in which they need to be done. It's okay to do them in an order that makes sense to you._\n",
    "\n",
    "* [ ] For 01-2009 through 06-2015, what hour of the day was the most popular to take a yellow taxi? The result should have 24 bins.\n",
    "* [ ] For the same time frame, what day of the week was the most popular to take an uber? The result should have 7 bins.\n",
    "* [ ] What is the 95% percentile of distance traveled for all hired trips during July 2013?\n",
    "* [ ] What were the top 10 days with the highest number of hired rides for 2009, and what was the average distance for each day?\n",
    "* [ ] Which 10 days in 2014 were the windiest, and how many hired trips were made on those days?\n",
    "* [ ] During Hurricane Sandy in NYC (Oct 29-30, 2012) and the week leading up to it, how many trips were taken each hour, and for each hour, how much precipitation did NYC receive and what was the sustained wind speed?"
   ]
  },
  {
   "cell_type": "code",
   "execution_count": 29,
   "id": "6a849e92",
   "metadata": {},
   "outputs": [],
   "source": [
    "def write_query_to_file(query, outfile):\n",
    "    with open(outfile, \"w\") as f:\n",
    "        f.write(query)"
   ]
  },
  {
   "cell_type": "markdown",
   "id": "ee70a777",
   "metadata": {},
   "source": [
    "### Query N\n",
    "\n",
    "_**TODO:** Write some prose that tells the reader what you're about to do here._\n",
    "\n",
    "_Repeat for each query_"
   ]
  },
  {
   "cell_type": "code",
   "execution_count": 30,
   "id": "db871d3c",
   "metadata": {},
   "outputs": [],
   "source": [
    "#DONT FORGET TO ADJUST THE pickup date to BETWEEN 2009-01-01 AND 2015-06-30\n",
    "QUERY_1 = \"\"\"\n",
    "SELECT tpep_pickup_hour as order_hour,\n",
    "    COUNT(id) as num_order    \n",
    "FROM taxi_trips\n",
    "WHERE tpep_pickup_date BETWEEN \"2014-01-01\" AND \"2014-01-31\" \n",
    "GROUP BY order_hour\n",
    "ORDER BY num_order DESC\n",
    "\"\"\""
   ]
  },
  {
   "cell_type": "code",
   "execution_count": 31,
   "id": "fd97a9be",
   "metadata": {},
   "outputs": [],
   "source": [
    "#DONT FORGET TO ADJUST THE pickup date to BETWEEN 2009-01-01 AND 2015-06-30\n",
    "QUERY_2 = \"\"\"\n",
    "SELECT order_day,\n",
    "    COUNT(id) as num_order    \n",
    "FROM uber_trips\n",
    "WHERE order_date BETWEEN \"2009-01-01\" AND \"2015-06-30\" \n",
    "GROUP BY order_day\n",
    "ORDER BY num_order DESC\n",
    "\"\"\""
   ]
  },
  {
   "cell_type": "code",
   "execution_count": 32,
   "id": "fdc90a40",
   "metadata": {},
   "outputs": [],
   "source": [
    "#DONT FORGET TO ADJUST THE pickup date to in July 2013\n",
    "#Still confuse wheteher to use NTILE(95) or NTILE(5)\n",
    "QUERY_3 = \"\"\"\n",
    "WITH data AS (SELECT distance, NTILE(95) OVER (ORDER BY distance) AS percentile\n",
    "           FROM taxi_trips\n",
    "           WHERE tpep_pickup_date BETWEEN \"2014-01-01\" AND \"2014-01-31\")\n",
    "SELECT MAX(distance) as distance\n",
    "FROM data\n",
    "GROUP BY percentile;\n",
    "\"\"\""
   ]
  },
  {
   "cell_type": "code",
   "execution_count": 33,
   "id": "e4b9ec81",
   "metadata": {},
   "outputs": [],
   "source": [
    "#DONT FORGET TO ADJUST THE pickup date to BETWEEN 2009-01-01 AND 2009-12-31\n",
    "QUERY_4 = \"\"\"\n",
    "SELECT tpep_pickup_date as order_date,\n",
    "    COUNT(id) as num_order\n",
    "FROM taxi_trips\n",
    "WHERE order_date BETWEEN \"2014-01-01\" AND \"2014-01-31\"\n",
    "GROUP BY order_date\n",
    "ORDER BY num_order DESC\n",
    "LIMIT 10\"\"\""
   ]
  },
  {
   "cell_type": "code",
   "execution_count": 34,
   "id": "780ba9b3",
   "metadata": {},
   "outputs": [],
   "source": [
    "#DONT FORGET TO ADJUST THE pickup date to BETWEEN 2014-01-01 to 2014-12-31\n",
    "QUERY_5 = \"\"\"\n",
    "WITH taxi_trip AS (\n",
    "    SELECT tpep_pickup_date as order_date,\n",
    "        COUNT(id) as num_order    \n",
    "    FROM taxi_trips\n",
    "    WHERE tpep_pickup_date BETWEEN \"2014-01-01\" AND \"2014-01-31\"\n",
    "    GROUP BY order_date\n",
    "    ORDER BY num_order DESC\n",
    "    ),\n",
    "    daily_observation_data AS (\n",
    "    SELECT ORDER_DATE as order_date,\n",
    "        AVG(DailyAverageWindSpeed) as avg_wind_speed\n",
    "    FROM daily_weather\n",
    "    WHERE order_date BETWEEN \"2014-01-01\" AND \"2014-01-31\"\n",
    "    GROUP BY order_date\n",
    "    ORDER BY avg_wind_speed DESC\n",
    "    LIMIT 10\n",
    "    )\n",
    "SELECT daily_observation_data.order_date,\n",
    "    daily_observation_data.avg_wind_speed,\n",
    "    taxi_trip.num_order\n",
    "FROM daily_observation_data\n",
    "LEFT JOIN taxi_trip ON daily_observation_data.order_date = taxi_trip.order_date\n",
    "\"\"\""
   ]
  },
  {
   "cell_type": "code",
   "execution_count": 35,
   "id": "626b471e",
   "metadata": {},
   "outputs": [],
   "source": [
    "#DONT FORGET TO CHANGE THE PERIOD TO BETWEEN \"2012-10-22\" AND \"2012-11-06\"\n",
    "#NEED TO CLARIFY WHETHER TO USE AVERAGE OR MAX IN AGGREGATING THE PRECIPITATION AND WIND SPEED DATA\n",
    "QUERY_6 = \"\"\"\n",
    "WITH weather_data AS (\n",
    "    SELECT ORDER_TIME AS order_hour,\n",
    "        ROUND(AVG(HourlyWindSpeed),2) wind_speed,\n",
    "        ROUND(AVG(HourlyPrecipitation),2) precipitation\n",
    "    FROM hourly_weather\n",
    "    WHERE ORDER_DATE BETWEEN \"2014-01-01\" AND \"2014-01-31\"\n",
    "    GROUP BY order_hour\n",
    "), trip_data AS (\n",
    "    SELECT tpep_pickup_hour as order_hour,\n",
    "        COUNT(id) as num_order    \n",
    "    FROM taxi_trips\n",
    "    WHERE tpep_pickup_date BETWEEN \"2014-01-01\" AND \"2014-01-31\"\n",
    "    GROUP BY order_hour\n",
    "    ORDER BY num_order DESC\n",
    ")\n",
    "SELECT weather_data.order_hour,\n",
    "    wind_speed,\n",
    "    precipitation,\n",
    "    num_order\n",
    "FROM weather_data\n",
    "LEFT JOIN trip_data ON weather_data.order_hour = trip_data.order_hour\n",
    "\"\"\""
   ]
  },
  {
   "cell_type": "code",
   "execution_count": 36,
   "id": "c21c5d21",
   "metadata": {},
   "outputs": [
    {
     "data": {
      "text/plain": [
       "[(0, 6.74, 0.02, None),\n",
       " (1, 6.38, 0.01, None),\n",
       " (2, 6.93, 0.01, None),\n",
       " (3, 6.36, 0.0, None),\n",
       " (4, 6.91, 0.0, None),\n",
       " (5, 8.0, 0.01, None),\n",
       " (6, 7.18, 0.0, None),\n",
       " (7, 7.13, 0.01, None),\n",
       " (8, 6.8, 0.02, None),\n",
       " (9, 6.09, 0.02, None),\n",
       " (10, 5.2, 0.06, None),\n",
       " (11, 5.88, 0.06, None),\n",
       " (12, 6.44, 0.0, None),\n",
       " (13, 6.07, 0.0, None),\n",
       " (14, 6.67, 0.01, None),\n",
       " (15, 6.82, 0.0, None),\n",
       " (16, 5.96, 0.01, None),\n",
       " (17, 6.65, 0.02, None),\n",
       " (18, 6.16, 0.01, None),\n",
       " (19, 7.48, 0.01, None),\n",
       " (20, 6.81, 0.01, None),\n",
       " (21, 5.84, 0.01, None),\n",
       " (22, 7.0, 0.01, None),\n",
       " (23, 5.96, 0.01, None)]"
      ]
     },
     "execution_count": 36,
     "metadata": {},
     "output_type": "execute_result"
    }
   ],
   "source": [
    "engine.execute(QUERY_6).fetchall()"
   ]
  },
  {
   "cell_type": "code",
   "execution_count": 34,
   "id": "a2ef04df",
   "metadata": {},
   "outputs": [],
   "source": [
    "write_query_to_file(QUERY_1, \"query_1.sql\")"
   ]
  },
  {
   "cell_type": "markdown",
   "id": "a13ced42",
   "metadata": {},
   "source": [
    "## Part 4: Visualizing the Data\n",
    "\n",
    "_A checklist of requirements to keep you on track. Remove this whole cell before submitting the project. The order of these tasks aren't necessarily the order in which they need to be done. It's okay to do them in an order that makes sense to you._\n",
    "\n",
    "* [ ] Create an appropriate visualization for the first query/question in part 3\n",
    "* [ ] Create a visualization that shows the average distance traveled per month (regardless of year - so group by each month). Include the 90% confidence interval around the mean in the visualization\n",
    "* [ ] Define three lat/long coordinate boxes around the three major New York airports: LGA, JFK, and EWR (you can use bboxfinder to help). Create a visualization that compares what day of the week was most popular for drop offs for each airport.\n",
    "* [ ] Create a heatmap of all hired trips over a map of the area. Consider using KeplerGL or another library that helps generate geospatial visualizations.\n",
    "* [ ] Create a scatter plot that compares tip amount versus distance.\n",
    "* [ ] Create another scatter plot that compares tip amount versus precipitation amount.\n",
    "\n",
    "_Be sure these cells are executed so that the visualizations are rendered when the notebook is submitted._"
   ]
  },
  {
   "cell_type": "markdown",
   "id": "6d9eef42",
   "metadata": {},
   "source": [
    "### Visualization N\n",
    "\n",
    "_**TODO:** Write some prose that tells the reader what you're about to do here._\n",
    "\n",
    "_Repeat for each visualization._\n",
    "\n",
    "_The example below makes use of the `matplotlib` library. There are other libraries, including `pandas` built-in plotting library, kepler for geospatial data representation, `seaborn`, and others._"
   ]
  },
  {
   "cell_type": "code",
   "execution_count": 35,
   "id": "0de8394c",
   "metadata": {},
   "outputs": [],
   "source": [
    "# use a more descriptive name for your function\n",
    "def plot_visual_n(dataframe):\n",
    "    figure, axes = plt.subplots(figsize=(20, 10))\n",
    "    \n",
    "    values = \"...\"  # use the dataframe to pull out values needed to plot\n",
    "    \n",
    "    # you may want to use matplotlib to plot your visualizations;\n",
    "    # there are also many other plot types (other \n",
    "    # than axes.plot) you can use\n",
    "    axes.plot(values, \"...\")\n",
    "    # there are other methods to use to label your axes, to style \n",
    "    # and set up axes labels, etc\n",
    "    axes.set_title(\"Some Descriptive Title\")\n",
    "    \n",
    "    plt.show()"
   ]
  },
  {
   "cell_type": "code",
   "execution_count": 36,
   "id": "847ced2f",
   "metadata": {},
   "outputs": [],
   "source": [
    "def get_data_for_visual_n():\n",
    "    # Query SQL database for the data needed.\n",
    "    # You can put the data queried into a pandas dataframe, if you wish\n",
    "    raise NotImplemented()"
   ]
  },
  {
   "cell_type": "code",
   "execution_count": 37,
   "id": "3c63e845",
   "metadata": {},
   "outputs": [
    {
     "ename": "TypeError",
     "evalue": "'NotImplementedType' object is not callable",
     "output_type": "error",
     "traceback": [
      "\u001b[0;31m---------------------------------------------------------------------------\u001b[0m",
      "\u001b[0;31mTypeError\u001b[0m                                 Traceback (most recent call last)",
      "Cell \u001b[0;32mIn [37], line 1\u001b[0m\n\u001b[0;32m----> 1\u001b[0m some_dataframe \u001b[38;5;241m=\u001b[39m \u001b[43mget_data_for_visual_n\u001b[49m\u001b[43m(\u001b[49m\u001b[43m)\u001b[49m\n\u001b[1;32m      2\u001b[0m plot_visual_n(some_dataframe)\n",
      "Cell \u001b[0;32mIn [36], line 4\u001b[0m, in \u001b[0;36mget_data_for_visual_n\u001b[0;34m()\u001b[0m\n\u001b[1;32m      1\u001b[0m \u001b[38;5;28;01mdef\u001b[39;00m \u001b[38;5;21mget_data_for_visual_n\u001b[39m():\n\u001b[1;32m      2\u001b[0m     \u001b[38;5;66;03m# Query SQL database for the data needed.\u001b[39;00m\n\u001b[1;32m      3\u001b[0m     \u001b[38;5;66;03m# You can put the data queried into a pandas dataframe, if you wish\u001b[39;00m\n\u001b[0;32m----> 4\u001b[0m     \u001b[38;5;28;01mraise\u001b[39;00m \u001b[38;5;28;43mNotImplemented\u001b[39;49m\u001b[43m(\u001b[49m\u001b[43m)\u001b[49m\n",
      "\u001b[0;31mTypeError\u001b[0m: 'NotImplementedType' object is not callable"
     ]
    }
   ],
   "source": [
    "some_dataframe = get_data_for_visual_n()\n",
    "plot_visual_n(some_dataframe)"
   ]
  }
 ],
 "metadata": {
  "kernelspec": {
   "display_name": "Python 3 (ipykernel)",
   "language": "python",
   "name": "python3"
  },
  "language_info": {
   "codemirror_mode": {
    "name": "ipython",
    "version": 3
   },
   "file_extension": ".py",
   "mimetype": "text/x-python",
   "name": "python",
   "nbconvert_exporter": "python",
   "pygments_lexer": "ipython3",
   "version": "3.9.9"
  }
 },
 "nbformat": 4,
 "nbformat_minor": 5
}
